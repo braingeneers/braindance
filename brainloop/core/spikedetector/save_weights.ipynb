{
 "cells": [
  {
   "cell_type": "code",
   "execution_count": 1,
   "metadata": {},
   "outputs": [],
   "source": [
    "%load_ext autoreload"
   ]
  },
  {
   "cell_type": "code",
   "execution_count": 2,
   "metadata": {},
   "outputs": [
    {
     "name": "stderr",
     "output_type": "stream",
     "text": [
      "WARNING:torch_tensorrt.dynamo.conversion.aten_ops_converters:Unable to import quantization op. Please install modelopt library (https://github.com/NVIDIA/TensorRT-Model-Optimizer?tab=readme-ov-file#installation) to add support for compiling quantized models\n"
     ]
    }
   ],
   "source": [
    "%autoreload 2\n",
    "from braindance.core.spikedetector.model2 import ModelSpikeSorter"
   ]
  },
  {
   "cell_type": "code",
   "execution_count": 7,
   "metadata": {},
   "outputs": [
    {
     "ename": "ValueError",
     "evalue": "Module was provided in an unsupported format\nInstalled frontends:\n\tDynamo - True\n\tTorchScript - False\n\tFX - True)",
     "output_type": "error",
     "traceback": [
      "\u001b[1;31m---------------------------------------------------------------------------\u001b[0m",
      "\u001b[1;31mValueError\u001b[0m                                Traceback (most recent call last)",
      "Cell \u001b[1;32mIn[7], line 2\u001b[0m\n\u001b[0;32m      1\u001b[0m model \u001b[38;5;241m=\u001b[39m ModelSpikeSorter\u001b[38;5;241m.\u001b[39mload(\u001b[38;5;124m\"\u001b[39m\u001b[38;5;124mbraindance/core/spikedetector/detection_models/mea\u001b[39m\u001b[38;5;124m\"\u001b[39m)\n\u001b[1;32m----> 2\u001b[0m model_compiled \u001b[38;5;241m=\u001b[39m \u001b[43mmodel\u001b[49m\u001b[38;5;241;43m.\u001b[39;49m\u001b[43mcompile\u001b[49m\u001b[43m(\u001b[49m\u001b[38;5;241;43m1024\u001b[39;49m\u001b[43m)\u001b[49m\n",
      "File \u001b[1;32mc:\\Users\\riceh\\kosik\\BrainDance\\braindance\\core\\spikedetector\\model2.py:1107\u001b[0m, in \u001b[0;36mModelSpikeSorter.compile\u001b[1;34m(self, n_dim_0, model_save_path, input_size, dtype, device)\u001b[0m\n\u001b[0;32m   1104\u001b[0m     \u001b[38;5;28mprint\u001b[39m(\u001b[38;5;124m\"\u001b[39m\u001b[38;5;124mCannot compile detection model with torch_tensorrt because cannot load torch_tensorrt. Skipping NVIDIA compilation\u001b[39m\u001b[38;5;124m\"\u001b[39m)\n\u001b[0;32m   1105\u001b[0m     \u001b[38;5;28;01mreturn\u001b[39;00m model\n\u001b[1;32m-> 1107\u001b[0m model \u001b[38;5;241m=\u001b[39m \u001b[43mtorch_tensorrt\u001b[49m\u001b[38;5;241;43m.\u001b[39;49m\u001b[43mcompile\u001b[49m\u001b[43m(\u001b[49m\u001b[43mmodel\u001b[49m\u001b[43m,\u001b[49m\n\u001b[0;32m   1108\u001b[0m \u001b[43m                               \u001b[49m\u001b[43minputs\u001b[49m\u001b[38;5;241;43m=\u001b[39;49m\u001b[43m[\u001b[49m\u001b[43mtorch_tensorrt\u001b[49m\u001b[38;5;241;43m.\u001b[39;49m\u001b[43mInput\u001b[49m\u001b[43m(\u001b[49m\n\u001b[0;32m   1109\u001b[0m \u001b[43m                                   \u001b[49m\u001b[43m(\u001b[49m\u001b[43mn_dim_0\u001b[49m\u001b[43m,\u001b[49m\u001b[43m \u001b[49m\u001b[38;5;28;43mself\u001b[39;49m\u001b[38;5;241;43m.\u001b[39;49m\u001b[43mnum_channels_in\u001b[49m\u001b[43m,\u001b[49m\u001b[43m \u001b[49m\u001b[43minput_size\u001b[49m\u001b[43m)\u001b[49m\u001b[43m,\u001b[49m\u001b[43m \u001b[49m\u001b[43mdtype\u001b[49m\u001b[38;5;241;43m=\u001b[39;49m\u001b[43mdtype\u001b[49m\u001b[43m)\u001b[49m\u001b[43m]\u001b[49m\u001b[43m,\u001b[49m\n\u001b[0;32m   1110\u001b[0m \u001b[43m                               \u001b[49m\u001b[43menabled_precisions\u001b[49m\u001b[38;5;241;43m=\u001b[39;49m\u001b[43m{\u001b[49m\u001b[43mdtype\u001b[49m\u001b[43m}\u001b[49m\u001b[43m)\u001b[49m\n\u001b[0;32m   1112\u001b[0m \u001b[38;5;28;01mif\u001b[39;00m model_save_path \u001b[38;5;129;01mis\u001b[39;00m \u001b[38;5;129;01mnot\u001b[39;00m \u001b[38;5;28;01mNone\u001b[39;00m:\n\u001b[0;32m   1113\u001b[0m     torch\u001b[38;5;241m.\u001b[39mjit\u001b[38;5;241m.\u001b[39msave(model, model_save_path \u001b[38;5;241m/\u001b[39m\n\u001b[0;32m   1114\u001b[0m                    ModelSpikeSorter\u001b[38;5;241m.\u001b[39mcompiled_name)\n",
      "File \u001b[1;32mc:\\Users\\riceh\\anaconda3\\envs\\brain_dance\\Lib\\site-packages\\torch_tensorrt\\_compile.py:199\u001b[0m, in \u001b[0;36mcompile\u001b[1;34m(module, ir, inputs, enabled_precisions, **kwargs)\u001b[0m\n\u001b[0;32m    192\u001b[0m enabled_precisions_set: Set[dtype \u001b[38;5;241m|\u001b[39m torch\u001b[38;5;241m.\u001b[39mdtype] \u001b[38;5;241m=\u001b[39m (\n\u001b[0;32m    193\u001b[0m     enabled_precisions\n\u001b[0;32m    194\u001b[0m     \u001b[38;5;28;01mif\u001b[39;00m enabled_precisions \u001b[38;5;129;01mis\u001b[39;00m \u001b[38;5;129;01mnot\u001b[39;00m \u001b[38;5;28;01mNone\u001b[39;00m\n\u001b[0;32m    195\u001b[0m     \u001b[38;5;28;01melse\u001b[39;00m _defaults\u001b[38;5;241m.\u001b[39mENABLED_PRECISIONS\n\u001b[0;32m    196\u001b[0m )\n\u001b[0;32m    198\u001b[0m module_type \u001b[38;5;241m=\u001b[39m _parse_module_type(module)\n\u001b[1;32m--> 199\u001b[0m target_ir \u001b[38;5;241m=\u001b[39m \u001b[43m_get_target_fe\u001b[49m\u001b[43m(\u001b[49m\u001b[43mmodule_type\u001b[49m\u001b[43m,\u001b[49m\u001b[43m \u001b[49m\u001b[43mir\u001b[49m\u001b[43m)\u001b[49m\n\u001b[0;32m    200\u001b[0m \u001b[38;5;28;01mif\u001b[39;00m target_ir \u001b[38;5;241m==\u001b[39m _IRType\u001b[38;5;241m.\u001b[39mts:\n\u001b[0;32m    201\u001b[0m     ts_mod \u001b[38;5;241m=\u001b[39m module\n",
      "File \u001b[1;32mc:\\Users\\riceh\\anaconda3\\envs\\brain_dance\\Lib\\site-packages\\torch_tensorrt\\_compile.py:140\u001b[0m, in \u001b[0;36m_get_target_fe\u001b[1;34m(module_type, ir)\u001b[0m\n\u001b[0;32m    138\u001b[0m         \u001b[38;5;28;01mreturn\u001b[39;00m _IRType\u001b[38;5;241m.\u001b[39mdynamo\n\u001b[0;32m    139\u001b[0m     \u001b[38;5;28;01melse\u001b[39;00m:\n\u001b[1;32m--> 140\u001b[0m         \u001b[38;5;28;01mraise\u001b[39;00m \u001b[38;5;167;01mValueError\u001b[39;00m(\n\u001b[0;32m    141\u001b[0m             \u001b[38;5;124mf\u001b[39m\u001b[38;5;124m\"\u001b[39m\u001b[38;5;124mModule was provided in an unsupported format\u001b[39m\u001b[38;5;130;01m\\n\u001b[39;00m\u001b[38;5;124mInstalled frontends:\u001b[39m\u001b[38;5;130;01m\\n\u001b[39;00m\u001b[38;5;130;01m\\t\u001b[39;00m\u001b[38;5;124mDynamo - \u001b[39m\u001b[38;5;132;01m{\u001b[39;00mENABLED_FEATURES\u001b[38;5;241m.\u001b[39mdynamo_frontend\u001b[38;5;132;01m}\u001b[39;00m\u001b[38;5;130;01m\\n\u001b[39;00m\u001b[38;5;130;01m\\t\u001b[39;00m\u001b[38;5;124mTorchScript - \u001b[39m\u001b[38;5;132;01m{\u001b[39;00mENABLED_FEATURES\u001b[38;5;241m.\u001b[39mtorchscript_frontend\u001b[38;5;132;01m}\u001b[39;00m\u001b[38;5;130;01m\\n\u001b[39;00m\u001b[38;5;130;01m\\t\u001b[39;00m\u001b[38;5;124mFX - \u001b[39m\u001b[38;5;132;01m{\u001b[39;00mENABLED_FEATURES\u001b[38;5;241m.\u001b[39mfx_frontend\u001b[38;5;132;01m}\u001b[39;00m\u001b[38;5;124m)\u001b[39m\u001b[38;5;124m\"\u001b[39m\n\u001b[0;32m    142\u001b[0m         )\n\u001b[0;32m    143\u001b[0m \u001b[38;5;28;01melse\u001b[39;00m:\n\u001b[0;32m    144\u001b[0m     \u001b[38;5;28;01mraise\u001b[39;00m \u001b[38;5;167;01mValueError\u001b[39;00m(\u001b[38;5;124m\"\u001b[39m\u001b[38;5;124mUnknown ir was requested\u001b[39m\u001b[38;5;124m\"\u001b[39m)\n",
      "\u001b[1;31mValueError\u001b[0m: Module was provided in an unsupported format\nInstalled frontends:\n\tDynamo - True\n\tTorchScript - False\n\tFX - True)"
     ]
    }
   ],
   "source": [
    "model = ModelSpikeSorter.load(\"braindance/core/spikedetector/detection_models/mea\")\n",
    "model_compiled = model.compile(1024)"
   ]
  },
  {
   "cell_type": "code",
   "execution_count": 15,
   "metadata": {},
   "outputs": [
    {
     "name": "stdout",
     "output_type": "stream",
     "text": [
      "0.weight (50, 1, 21)\n",
      "0.bias (50,)\n",
      "2.weight (50, 50, 21)\n",
      "2.bias (50,)\n",
      "4.weight (50, 50, 21)\n",
      "4.bias (50,)\n",
      "6.weight (1, 50, 21)\n",
      "6.bias (1,)\n"
     ]
    }
   ],
   "source": [
    "model = ModelSpikeSorter.load(\"braindance/core/spikedetector/detection_models/mea\").model.conv\n",
    "new_names = [\n",
    "    \"conv1_weight\", \"conv1_bias\",\n",
    "    \"conv2_weight\", \"conv2_bias\",\n",
    "    \"conv3_weight\", \"conv3_bias\",\n",
    "    \"conv4_weight\", \"conv4_bias\",\n",
    "]\n",
    "save_dict = {}\n",
    "\n",
    "for (name, param), new_name in zip(model.state_dict().items(), new_names):\n",
    "    param = param.cpu().numpy()\n",
    "    print(name, param.shape)\n",
    "    save_dict[new_name] = param"
   ]
  },
  {
   "cell_type": "code",
   "execution_count": 19,
   "metadata": {},
   "outputs": [],
   "source": [
    "from scipy.io import savemat\n",
    "savemat(r\"C:\\Users\\riceh\\kosik\\data\\mea_model_weights.mat\", save_dict)"
   ]
  },
  {
   "cell_type": "code",
   "execution_count": null,
   "metadata": {},
   "outputs": [],
   "source": []
  }
 ],
 "metadata": {
  "kernelspec": {
   "display_name": "brain_dance",
   "language": "python",
   "name": "python3"
  },
  "language_info": {
   "codemirror_mode": {
    "name": "ipython",
    "version": 3
   },
   "file_extension": ".py",
   "mimetype": "text/x-python",
   "name": "python",
   "nbconvert_exporter": "python",
   "pygments_lexer": "ipython3",
   "version": "3.11.9"
  }
 },
 "nbformat": 4,
 "nbformat_minor": 2
}
